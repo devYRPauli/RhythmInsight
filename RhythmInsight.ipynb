{
  "cells": [
    {
      "cell_type": "code",
      "source": [
        "from google.colab import drive\n",
        "drive.mount('/content/drive')"
      ],
      "metadata": {
        "id": "5cyTVzlhXoLQ",
        "colab": {
          "base_uri": "https://localhost:8080/"
        },
        "outputId": "6e0a61c8-ebc0-49f6-c603-44cb8c9e28f4"
      },
      "id": "5cyTVzlhXoLQ",
      "execution_count": null,
      "outputs": [
        {
          "output_type": "stream",
          "name": "stdout",
          "text": [
            "Drive already mounted at /content/drive; to attempt to forcibly remount, call drive.mount(\"/content/drive\", force_remount=True).\n"
          ]
        }
      ]
    },
    {
      "cell_type": "code",
      "execution_count": null,
      "id": "f058c937",
      "metadata": {
        "execution": {
          "iopub.execute_input": "2022-07-03T06:33:04.532137Z",
          "iopub.status.busy": "2022-07-03T06:33:04.531755Z",
          "iopub.status.idle": "2022-07-03T06:33:15.981859Z",
          "shell.execute_reply": "2022-07-03T06:33:15.980730Z"
        },
        "papermill": {
          "duration": 11.458846,
          "end_time": "2022-07-03T06:33:15.984385",
          "exception": false,
          "start_time": "2022-07-03T06:33:04.525539",
          "status": "completed"
        },
        "tags": [],
        "id": "f058c937"
      },
      "outputs": [],
      "source": [
        "import os\n",
        "import glob\n",
        "import numpy as np\n",
        "from tqdm import tqdm\n",
        "import itertools\n",
        "import matplotlib.pyplot as plt\n",
        "import pandas as pd\n",
        "\n",
        "# Audio\n",
        "import librosa\n",
        "import librosa.display\n",
        "\n",
        "# Scikit learn\n",
        "from sklearn.model_selection import train_test_split\n",
        "from sklearn.metrics import classification_report, accuracy_score, confusion_matrix\n",
        "from sklearn.preprocessing import LabelEncoder\n",
        "from sklearn.utils import shuffle\n",
        "from sklearn.utils import class_weight\n",
        "\n",
        "# Keras\n",
        "import keras\n",
        "from keras.models import Sequential\n",
        "from keras.layers import Dense, Dropout, Activation, Flatten\n",
        "from keras.layers import Convolution2D, Conv2D, MaxPooling2D, GlobalAveragePooling2D\n",
        "\n",
        "import warnings\n",
        "warnings.filterwarnings('ignore', category=FutureWarning)"
      ]
    },
    {
      "cell_type": "code",
      "execution_count": null,
      "id": "f3269176",
      "metadata": {
        "execution": {
          "iopub.execute_input": "2022-07-03T06:33:15.996918Z",
          "iopub.status.busy": "2022-07-03T06:33:15.996253Z",
          "iopub.status.idle": "2022-07-03T06:33:20.057092Z",
          "shell.execute_reply": "2022-07-03T06:33:20.055252Z"
        },
        "papermill": {
          "duration": 4.070227,
          "end_time": "2022-07-03T06:33:20.059978",
          "exception": false,
          "start_time": "2022-07-03T06:33:15.989751",
          "status": "completed"
        },
        "tags": [],
        "id": "f3269176",
        "outputId": "d4b32160-a35a-423c-9f0b-dda62cf54d66",
        "colab": {
          "base_uri": "https://localhost:8080/"
        }
      },
      "outputs": [
        {
          "output_type": "stream",
          "name": "stdout",
          "text": [
            "<class 'pandas.core.frame.DataFrame'>\n",
            "Int64Index: 404 entries, 70 to 102\n",
            "Data columns (total 3 columns):\n",
            " #   Column    Non-Null Count  Dtype  \n",
            "---  ------    --------------  -----  \n",
            " 0   filename  404 non-null    object \n",
            " 1   label     404 non-null    object \n",
            " 2   offset    404 non-null    float64\n",
            "dtypes: float64(1), object(2)\n",
            "memory usage: 12.6+ KB\n"
          ]
        }
      ],
      "source": [
        "dataset = []\n",
        "for folder in [\"/content/drive/MyDrive/Major Project /set_a.zip/**\",\"/content/drive/MyDrive/Major Project /set_b.zip/\"]:\n",
        "    for filename in glob.iglob(folder):\n",
        "        if os.path.exists(filename):\n",
        "            label = os.path.basename(filename).split(\"_\")[0]\n",
        "            duration = librosa.get_duration(filename=filename)\n",
        "            # skip audio smaller than 3 secs\n",
        "            if duration>=3:\n",
        "                slice_size = 3\n",
        "                iterations = int((duration-slice_size)/(slice_size-1))\n",
        "                iterations += 1\n",
        "#                 initial_offset = (duration % slice_size)/2\n",
        "                initial_offset = (duration - ((iterations*(slice_size-1))+1))/2\n",
        "                if label not in [\"Aunlabelledtest\", \"Bunlabelledtest\"]:\n",
        "                    for i in range(iterations):\n",
        "                        offset = initial_offset + i*(slice_size-1)\n",
        "                        \n",
        "                        dataset.append({\n",
        "                                \"filename\": filename,\n",
        "                                \"label\": label,\n",
        "                                \"offset\": offset\n",
        "                            })\n",
        "                       \n",
        "                        \n",
        "dataset = pd.DataFrame(dataset)\n",
        "dataset = shuffle(dataset, random_state=42)\n",
        "dataset.info()"
      ]
    },
    {
      "cell_type": "code",
      "execution_count": null,
      "id": "aef40990",
      "metadata": {
        "execution": {
          "iopub.execute_input": "2022-07-03T06:33:20.072320Z",
          "iopub.status.busy": "2022-07-03T06:33:20.071609Z",
          "iopub.status.idle": "2022-07-03T06:33:20.302371Z",
          "shell.execute_reply": "2022-07-03T06:33:20.301292Z"
        },
        "papermill": {
          "duration": 0.239483,
          "end_time": "2022-07-03T06:33:20.304670",
          "exception": false,
          "start_time": "2022-07-03T06:33:20.065187",
          "status": "completed"
        },
        "tags": [],
        "id": "aef40990",
        "outputId": "28c613f3-d396-45b4-b7da-d0f3b71d0ec7",
        "colab": {
          "base_uri": "https://localhost:8080/",
          "height": 421
        }
      },
      "outputs": [
        {
          "output_type": "display_data",
          "data": {
            "text/plain": [
              "<Figure size 288x432 with 1 Axes>"
            ],
            "image/png": "[encoded data removed]"
          },
          "metadata": {
            "needs_background": "light"
          }
        }
      ],
      "source": [
        "plt.figure(figsize=(4,6))\n",
        "dataset.label.value_counts().plot(kind='bar', title=\"Dataset distribution\")\n",
        "plt.show()"
      ]
    },
    {
      "cell_type": "code",
      "execution_count": null,
      "id": "294d12f9",
      "metadata": {
        "execution": {
          "iopub.execute_input": "2022-07-03T06:33:20.317249Z",
          "iopub.status.busy": "2022-07-03T06:33:20.316895Z",
          "iopub.status.idle": "2022-07-03T06:33:20.326230Z",
          "shell.execute_reply": "2022-07-03T06:33:20.324896Z"
        },
        "papermill": {
          "duration": 0.018365,
          "end_time": "2022-07-03T06:33:20.328490",
          "exception": false,
          "start_time": "2022-07-03T06:33:20.310125",
          "status": "completed"
        },
        "tags": [],
        "id": "294d12f9",
        "outputId": "415e71f3-4270-4f9a-de97-d899b1f51692",
        "colab": {
          "base_uri": "https://localhost:8080/"
        }
      },
      "outputs": [
        {
          "output_type": "stream",
          "name": "stdout",
          "text": [
            "Train: 323\n",
            "Test: 81\n"
          ]
        }
      ],
      "source": [
        "train, test = train_test_split(dataset, test_size=0.2, random_state=42)\n",
        "\n",
        "print(\"Train: %i\" % len(train))\n",
        "print(\"Test: %i\" % len(test))"
      ]
    },
    {
      "cell_type": "code",
      "execution_count": null,
      "id": "31325e81",
      "metadata": {
        "execution": {
          "iopub.execute_input": "2022-07-03T06:33:20.340788Z",
          "iopub.status.busy": "2022-07-03T06:33:20.340388Z",
          "iopub.status.idle": "2022-07-03T06:33:20.346698Z",
          "shell.execute_reply": "2022-07-03T06:33:20.345585Z"
        },
        "papermill": {
          "duration": 0.014896,
          "end_time": "2022-07-03T06:33:20.348875",
          "exception": false,
          "start_time": "2022-07-03T06:33:20.333979",
          "status": "completed"
        },
        "tags": [],
        "id": "31325e81"
      },
      "outputs": [],
      "source": [
        "def extract_features(audio_path,offset):\n",
        "#     y, sr = librosa.load(audio_path, duration=3)\n",
        "    y, sr = librosa.load(audio_path, offset=offset, duration=3)\n",
        "#     y = librosa.util.normalize(y)\n",
        "    \n",
        "    S = librosa.feature.melspectrogram(y, sr=sr, n_fft=2048, \n",
        "                                   hop_length=512, \n",
        "                                   n_mels=128)\n",
        "    mfccs = librosa.feature.mfcc(S=librosa.power_to_db(S), n_mfcc=40)\n",
        "\n",
        "#     mfccs = librosa.feature.mfcc(y=y, sr=sr, n_mfcc=40)\n",
        "    return mfccs"
      ]
    },
    {
      "cell_type": "code",
      "execution_count": null,
      "id": "604c2c39",
      "metadata": {
        "execution": {
          "iopub.execute_input": "2022-07-03T06:33:20.361464Z",
          "iopub.status.busy": "2022-07-03T06:33:20.360806Z",
          "iopub.status.idle": "2022-07-03T06:37:03.200952Z",
          "shell.execute_reply": "2022-07-03T06:37:03.197329Z"
        },
        "papermill": {
          "duration": 222.854366,
          "end_time": "2022-07-03T06:37:03.208755",
          "exception": false,
          "start_time": "2022-07-03T06:33:20.354389",
          "status": "completed"
        },
        "tags": [],
        "id": "604c2c39",
        "outputId": "6d194601-3469-4690-b39c-b3b6e45e71ae",
        "colab": {
          "base_uri": "https://localhost:8080/"
        }
      },
      "outputs": [
        {
          "output_type": "stream",
          "name": "stderr",
          "text": [
            "100%|██████████| 323/323 [00:31<00:00, 10.41it/s]\n",
            "100%|██████████| 81/81 [00:08<00:00,  9.67it/s]"
          ]
        },
        {
          "output_type": "stream",
          "name": "stdout",
          "text": [
            "X train: (323, 40, 130)\n",
            "X test: (81, 40, 130)\n"
          ]
        },
        {
          "output_type": "stream",
          "name": "stderr",
          "text": [
            "\n"
          ]
        }
      ],
      "source": [
        "x_train = []\n",
        "x_test = []\n",
        "\n",
        "for idx in tqdm(range(len(train))):\n",
        "    x_train.append(extract_features(train.filename.iloc[idx],train.offset.iloc[idx]))\n",
        "\n",
        "for idx in tqdm(range(len(test))):\n",
        "    x_test.append(extract_features(test.filename.iloc[idx],test.offset.iloc[idx]))\n",
        "    \n",
        "x_test = np.asarray(x_test)\n",
        "x_train = np.asarray(x_train)\n",
        "\n",
        "print(\"X train:\", x_train.shape)\n",
        "print(\"X test:\", x_test.shape)"
      ]
    },
    {
      "cell_type": "code",
      "execution_count": null,
      "id": "a509f676",
      "metadata": {
        "execution": {
          "iopub.execute_input": "2022-07-03T06:37:03.392683Z",
          "iopub.status.busy": "2022-07-03T06:37:03.392012Z",
          "iopub.status.idle": "2022-07-03T06:37:03.400096Z",
          "shell.execute_reply": "2022-07-03T06:37:03.398981Z"
        },
        "papermill": {
          "duration": 0.083593,
          "end_time": "2022-07-03T06:37:03.402389",
          "exception": false,
          "start_time": "2022-07-03T06:37:03.318796",
          "status": "completed"
        },
        "tags": [],
        "id": "a509f676"
      },
      "outputs": [],
      "source": [
        "# Encode Labels\n",
        "encoder = LabelEncoder()\n",
        "encoder.fit(train.label)\n",
        "\n",
        "y_train = encoder.transform(train.label)\n",
        "y_test = encoder.transform(test.label)\n",
        "\n",
        "# Compute class weights\n",
        "class_weights = class_weight.compute_class_weight(class_weight = \"balanced\", classes = np.unique(y_train),y = y_train )"
      ]
    },
    {
      "cell_type": "code",
      "execution_count": null,
      "id": "6d2face7",
      "metadata": {
        "execution": {
          "iopub.execute_input": "2022-07-03T06:37:03.548348Z",
          "iopub.status.busy": "2022-07-03T06:37:03.547999Z",
          "iopub.status.idle": "2022-07-03T06:37:03.985003Z",
          "shell.execute_reply": "2022-07-03T06:37:03.983415Z"
        },
        "papermill": {
          "duration": 0.512926,
          "end_time": "2022-07-03T06:37:03.987482",
          "exception": false,
          "start_time": "2022-07-03T06:37:03.474556",
          "status": "completed"
        },
        "tags": [],
        "id": "6d2face7",
        "outputId": "b5ca2cb7-386b-45fb-a160-736aadc3f462",
        "colab": {
          "base_uri": "https://localhost:8080/"
        }
      },
      "outputs": [
        {
          "output_type": "stream",
          "name": "stdout",
          "text": [
            "X train: (323, 40, 130, 1)\n",
            "Y train: (323, 4)\n",
            "X test: (81, 40, 130, 1)\n",
            "Y test: (81, 4)\n"
          ]
        }
      ],
      "source": [
        "from tensorflow.keras.utils import to_categorical\n",
        "\n",
        "x_train = x_train.reshape(x_train.shape[0], x_train.shape[1], x_train.shape[2], 1)\n",
        "x_test = x_test.reshape(x_test.shape[0], x_test.shape[1], x_test.shape[2], 1)\n",
        "y_train = to_categorical(y_train)\n",
        "y_test = to_categorical(y_test)\n",
        "\n",
        "print(\"X train:\", x_train.shape)\n",
        "print(\"Y train:\", y_train.shape)\n",
        "print(\"X test:\", x_test.shape)\n",
        "print(\"Y test:\", y_test.shape)"
      ]
    },
    {
      "cell_type": "code",
      "execution_count": null,
      "id": "37983088",
      "metadata": {
        "execution": {
          "iopub.execute_input": "2022-07-03T06:37:04.135558Z",
          "iopub.status.busy": "2022-07-03T06:37:04.134719Z",
          "iopub.status.idle": "2022-07-03T06:37:04.303408Z",
          "shell.execute_reply": "2022-07-03T06:37:04.301579Z"
        },
        "papermill": {
          "duration": 0.245662,
          "end_time": "2022-07-03T06:37:04.305842",
          "exception": false,
          "start_time": "2022-07-03T06:37:04.060180",
          "status": "completed"
        },
        "tags": [],
        "id": "37983088",
        "outputId": "849cd468-8e88-40d6-8545-b47dfb406688",
        "colab": {
          "base_uri": "https://localhost:8080/"
        }
      },
      "outputs": [
        {
          "output_type": "stream",
          "name": "stdout",
          "text": [
            "Model: \"sequential_2\"\n",
            "_________________________________________________________________\n",
            " Layer (type)                Output Shape              Param #   \n",
            "=================================================================\n",
            " conv2d_8 (Conv2D)           (None, 39, 129, 32)       160       \n",
            "                                                                 \n",
            " max_pooling2d_8 (MaxPooling  (None, 19, 64, 32)       0         \n",
            " 2D)                                                             \n",
            "                                                                 \n",
            " dropout_8 (Dropout)         (None, 19, 64, 32)        0         \n",
            "                                                                 \n",
            " conv2d_9 (Conv2D)           (None, 18, 63, 64)        8256      \n",
            "                                                                 \n",
            " max_pooling2d_9 (MaxPooling  (None, 9, 31, 64)        0         \n",
            " 2D)                                                             \n",
            "                                                                 \n",
            " dropout_9 (Dropout)         (None, 9, 31, 64)         0         \n",
            "                                                                 \n",
            " conv2d_10 (Conv2D)          (None, 8, 30, 128)        32896     \n",
            "                                                                 \n",
            " max_pooling2d_10 (MaxPoolin  (None, 4, 15, 128)       0         \n",
            " g2D)                                                            \n",
            "                                                                 \n",
            " dropout_10 (Dropout)        (None, 4, 15, 128)        0         \n",
            "                                                                 \n",
            " conv2d_11 (Conv2D)          (None, 3, 14, 256)        131328    \n",
            "                                                                 \n",
            " max_pooling2d_11 (MaxPoolin  (None, 1, 7, 256)        0         \n",
            " g2D)                                                            \n",
            "                                                                 \n",
            " dropout_11 (Dropout)        (None, 1, 7, 256)         0         \n",
            "                                                                 \n",
            " global_average_pooling2d_2   (None, 256)              0         \n",
            " (GlobalAveragePooling2D)                                        \n",
            "                                                                 \n",
            " dense_2 (Dense)             (None, 4)                 1028      \n",
            "                                                                 \n",
            "=================================================================\n",
            "Total params: 173,668\n",
            "Trainable params: 173,668\n",
            "Non-trainable params: 0\n",
            "_________________________________________________________________\n"
          ]
        }
      ],
      "source": [
        "model = Sequential()\n",
        "model.add(Conv2D(filters=32, kernel_size=2, input_shape=(x_train.shape[1],x_train.shape[2],x_train.shape[3]), activation='relu'))\n",
        "model.add(MaxPooling2D(pool_size=2))\n",
        "model.add(Dropout(0.2))\n",
        "\n",
        "model.add(Conv2D(filters=64, kernel_size=2, activation='relu'))\n",
        "model.add(MaxPooling2D(pool_size=2))\n",
        "model.add(Dropout(0.2))\n",
        "\n",
        "model.add(Conv2D(filters=128, kernel_size=2, activation='relu'))\n",
        "model.add(MaxPooling2D(pool_size=2))\n",
        "model.add(Dropout(0.2))\n",
        "\n",
        "model.add(Conv2D(filters=256, kernel_size=2, activation='relu'))\n",
        "model.add(MaxPooling2D(pool_size=2))\n",
        "model.add(Dropout(0.5))\n",
        "model.add(GlobalAveragePooling2D())\n",
        "\n",
        "model.add(Dense(len(encoder.classes_), activation='softmax'))\n",
        "model.summary()"
      ]
    },
    {
      "cell_type": "code",
      "execution_count": null,
      "id": "aac89e47",
      "metadata": {
        "execution": {
          "iopub.execute_input": "2022-07-03T06:37:04.451329Z",
          "iopub.status.busy": "2022-07-03T06:37:04.450370Z",
          "iopub.status.idle": "2022-07-03T06:37:04.467865Z",
          "shell.execute_reply": "2022-07-03T06:37:04.466953Z"
        },
        "papermill": {
          "duration": 0.092936,
          "end_time": "2022-07-03T06:37:04.470222",
          "exception": false,
          "start_time": "2022-07-03T06:37:04.377286",
          "status": "completed"
        },
        "tags": [],
        "id": "aac89e47"
      },
      "outputs": [],
      "source": [
        "from tensorflow import keras\n",
        "adam = keras.optimizers.Adam(1e-4)\n",
        "model.compile(loss='categorical_crossentropy', metrics=['accuracy'], optimizer='adam')"
      ]
    },
    {
      "cell_type": "code",
      "execution_count": null,
      "id": "ae025f10",
      "metadata": {
        "execution": {
          "iopub.execute_input": "2022-07-03T06:37:04.624116Z",
          "iopub.status.busy": "2022-07-03T06:37:04.623742Z",
          "iopub.status.idle": "2022-07-03T06:50:21.018168Z",
          "shell.execute_reply": "2022-07-03T06:50:21.017240Z"
        },
        "papermill": {
          "duration": 796.469495,
          "end_time": "2022-07-03T06:50:21.020359",
          "exception": false,
          "start_time": "2022-07-03T06:37:04.550864",
          "status": "completed"
        },
        "tags": [],
        "id": "ae025f10",
        "outputId": "c036504f-1dc3-4ffd-9c4f-ee3e982d75c9",
        "colab": {
          "base_uri": "https://localhost:8080/"
        }
      },
      "outputs": [
        {
          "output_type": "stream",
          "name": "stdout",
          "text": [
            "Epoch 1/300\n",
            "3/3 [==============================] - 3s 580ms/step - loss: 16.8991 - accuracy: 0.2848 - val_loss: 4.5714 - val_accuracy: 0.1358\n",
            "Epoch 2/300\n",
            "3/3 [==============================] - 2s 503ms/step - loss: 13.7105 - accuracy: 0.3065 - val_loss: 2.0998 - val_accuracy: 0.5185\n",
            "Epoch 3/300\n",
            "3/3 [==============================] - 2s 495ms/step - loss: 6.0637 - accuracy: 0.4737 - val_loss: 1.2918 - val_accuracy: 0.2963\n",
            "Epoch 4/300\n",
            "3/3 [==============================] - 2s 722ms/step - loss: 2.9926 - accuracy: 0.4365 - val_loss: 2.0039 - val_accuracy: 0.2716\n",
            "Epoch 5/300\n",
            "3/3 [==============================] - 2s 658ms/step - loss: 3.1236 - accuracy: 0.4087 - val_loss: 0.8725 - val_accuracy: 0.5185\n",
            "Epoch 6/300\n",
            "3/3 [==============================] - 2s 529ms/step - loss: 1.4710 - accuracy: 0.5232 - val_loss: 0.8135 - val_accuracy: 0.6790\n",
            "Epoch 7/300\n",
            "3/3 [==============================] - 2s 501ms/step - loss: 1.5683 - accuracy: 0.5604 - val_loss: 0.7919 - val_accuracy: 0.7037\n",
            "Epoch 8/300\n",
            "3/3 [==============================] - 2s 500ms/step - loss: 1.1901 - accuracy: 0.6130 - val_loss: 0.8334 - val_accuracy: 0.7160\n",
            "Epoch 9/300\n",
            "3/3 [==============================] - 2s 497ms/step - loss: 1.1387 - accuracy: 0.5882 - val_loss: 0.8259 - val_accuracy: 0.7531\n",
            "Epoch 10/300\n",
            "3/3 [==============================] - 2s 485ms/step - loss: 0.8519 - accuracy: 0.6656 - val_loss: 0.8014 - val_accuracy: 0.7407\n",
            "Epoch 11/300\n",
            "3/3 [==============================] - 2s 548ms/step - loss: 0.8051 - accuracy: 0.6656 - val_loss: 0.7884 - val_accuracy: 0.7037\n",
            "Epoch 12/300\n",
            "3/3 [==============================] - 3s 828ms/step - loss: 0.9291 - accuracy: 0.6037 - val_loss: 0.7737 - val_accuracy: 0.6914\n",
            "Epoch 13/300\n",
            "3/3 [==============================] - 2s 501ms/step - loss: 0.7624 - accuracy: 0.6842 - val_loss: 0.7651 - val_accuracy: 0.7284\n",
            "Epoch 14/300\n",
            "3/3 [==============================] - 2s 507ms/step - loss: 0.7769 - accuracy: 0.6749 - val_loss: 0.7539 - val_accuracy: 0.7654\n",
            "Epoch 15/300\n",
            "3/3 [==============================] - 2s 505ms/step - loss: 0.7139 - accuracy: 0.7028 - val_loss: 0.7339 - val_accuracy: 0.8025\n",
            "Epoch 16/300\n",
            "3/3 [==============================] - 2s 509ms/step - loss: 0.7700 - accuracy: 0.6625 - val_loss: 0.7074 - val_accuracy: 0.8025\n",
            "Epoch 17/300\n",
            "3/3 [==============================] - 2s 500ms/step - loss: 0.7183 - accuracy: 0.6873 - val_loss: 0.6883 - val_accuracy: 0.7654\n",
            "Epoch 18/300\n",
            "3/3 [==============================] - 2s 493ms/step - loss: 0.7098 - accuracy: 0.7090 - val_loss: 0.6823 - val_accuracy: 0.7284\n",
            "Epoch 19/300\n",
            "3/3 [==============================] - 2s 811ms/step - loss: 0.6790 - accuracy: 0.6780 - val_loss: 0.6846 - val_accuracy: 0.7284\n",
            "Epoch 20/300\n",
            "3/3 [==============================] - 2s 494ms/step - loss: 0.6862 - accuracy: 0.6966 - val_loss: 0.6722 - val_accuracy: 0.7407\n",
            "Epoch 21/300\n",
            "3/3 [==============================] - 2s 529ms/step - loss: 0.6074 - accuracy: 0.7492 - val_loss: 0.6458 - val_accuracy: 0.7654\n",
            "Epoch 22/300\n",
            "3/3 [==============================] - 2s 500ms/step - loss: 0.6088 - accuracy: 0.7090 - val_loss: 0.6224 - val_accuracy: 0.8148\n",
            "Epoch 23/300\n",
            "3/3 [==============================] - 2s 501ms/step - loss: 0.5958 - accuracy: 0.7740 - val_loss: 0.6048 - val_accuracy: 0.7901\n",
            "Epoch 24/300\n",
            "3/3 [==============================] - 2s 501ms/step - loss: 0.6527 - accuracy: 0.7090 - val_loss: 0.5985 - val_accuracy: 0.7778\n",
            "Epoch 25/300\n",
            "3/3 [==============================] - 2s 492ms/step - loss: 0.5889 - accuracy: 0.7616 - val_loss: 0.6025 - val_accuracy: 0.7407\n",
            "Epoch 26/300\n",
            "3/3 [==============================] - 2s 783ms/step - loss: 0.6529 - accuracy: 0.7307 - val_loss: 0.5872 - val_accuracy: 0.7901\n",
            "Epoch 27/300\n",
            "3/3 [==============================] - 2s 651ms/step - loss: 0.5885 - accuracy: 0.7492 - val_loss: 0.5671 - val_accuracy: 0.7778\n",
            "Epoch 28/300\n",
            "3/3 [==============================] - 2s 514ms/step - loss: 0.5794 - accuracy: 0.7368 - val_loss: 0.5558 - val_accuracy: 0.7778\n",
            "Epoch 29/300\n",
            "3/3 [==============================] - 2s 508ms/step - loss: 0.5662 - accuracy: 0.7245 - val_loss: 0.5561 - val_accuracy: 0.8025\n",
            "Epoch 30/300\n",
            "3/3 [==============================] - 2s 505ms/step - loss: 0.5738 - accuracy: 0.7430 - val_loss: 0.5581 - val_accuracy: 0.7901\n",
            "Epoch 31/300\n",
            "3/3 [==============================] - 2s 493ms/step - loss: 0.5745 - accuracy: 0.7461 - val_loss: 0.5325 - val_accuracy: 0.8025\n",
            "Epoch 32/300\n",
            "3/3 [==============================] - 2s 512ms/step - loss: 0.5446 - accuracy: 0.7430 - val_loss: 0.5151 - val_accuracy: 0.7901\n",
            "Epoch 33/300\n",
            "3/3 [==============================] - 2s 585ms/step - loss: 0.5497 - accuracy: 0.7461 - val_loss: 0.5274 - val_accuracy: 0.7778\n",
            "Epoch 34/300\n",
            "3/3 [==============================] - 3s 817ms/step - loss: 0.5709 - accuracy: 0.7585 - val_loss: 0.5331 - val_accuracy: 0.7778\n",
            "Epoch 35/300\n",
            "3/3 [==============================] - 2s 506ms/step - loss: 0.5615 - accuracy: 0.7523 - val_loss: 0.5160 - val_accuracy: 0.7901\n",
            "Epoch 36/300\n",
            "3/3 [==============================] - 2s 505ms/step - loss: 0.5501 - accuracy: 0.7245 - val_loss: 0.4932 - val_accuracy: 0.7778\n",
            "Epoch 37/300\n",
            "3/3 [==============================] - 2s 510ms/step - loss: 0.5619 - accuracy: 0.7214 - val_loss: 0.4925 - val_accuracy: 0.8025\n",
            "Epoch 38/300\n",
            "3/3 [==============================] - 2s 503ms/step - loss: 0.5307 - accuracy: 0.7461 - val_loss: 0.5003 - val_accuracy: 0.8148\n",
            "Epoch 39/300\n",
            "3/3 [==============================] - 2s 507ms/step - loss: 0.5268 - accuracy: 0.7771 - val_loss: 0.4665 - val_accuracy: 0.8025\n",
            "Epoch 40/300\n",
            "3/3 [==============================] - 2s 503ms/step - loss: 0.5115 - accuracy: 0.7585 - val_loss: 0.4561 - val_accuracy: 0.8642\n",
            "Epoch 41/300\n",
            "3/3 [==============================] - 2s 837ms/step - loss: 0.5179 - accuracy: 0.7492 - val_loss: 0.4724 - val_accuracy: 0.8148\n",
            "Epoch 42/300\n",
            "3/3 [==============================] - 2s 501ms/step - loss: 0.5225 - accuracy: 0.7647 - val_loss: 0.4827 - val_accuracy: 0.8148\n",
            "Epoch 43/300\n",
            "3/3 [==============================] - 2s 512ms/step - loss: 0.5176 - accuracy: 0.7554 - val_loss: 0.4584 - val_accuracy: 0.8272\n",
            "Epoch 44/300\n",
            "3/3 [==============================] - 2s 491ms/step - loss: 0.4967 - accuracy: 0.7833 - val_loss: 0.4600 - val_accuracy: 0.8272\n",
            "Epoch 45/300\n",
            "3/3 [==============================] - 2s 504ms/step - loss: 0.4845 - accuracy: 0.7957 - val_loss: 0.4623 - val_accuracy: 0.8272\n",
            "Epoch 46/300\n",
            "3/3 [==============================] - 2s 490ms/step - loss: 0.4925 - accuracy: 0.7833 - val_loss: 0.4546 - val_accuracy: 0.8272\n",
            "Epoch 47/300\n",
            "3/3 [==============================] - 2s 506ms/step - loss: 0.4841 - accuracy: 0.7926 - val_loss: 0.4536 - val_accuracy: 0.8025\n",
            "Epoch 48/300\n",
            "3/3 [==============================] - 2s 766ms/step - loss: 0.4758 - accuracy: 0.7895 - val_loss: 0.4408 - val_accuracy: 0.8395\n",
            "Epoch 49/300\n",
            "3/3 [==============================] - 2s 612ms/step - loss: 0.4666 - accuracy: 0.7802 - val_loss: 0.4340 - val_accuracy: 0.8272\n",
            "Epoch 50/300\n",
            "3/3 [==============================] - 2s 492ms/step - loss: 0.5011 - accuracy: 0.7678 - val_loss: 0.4353 - val_accuracy: 0.8395\n",
            "Epoch 51/300\n",
            "3/3 [==============================] - 2s 495ms/step - loss: 0.4820 - accuracy: 0.7957 - val_loss: 0.4316 - val_accuracy: 0.8395\n",
            "Epoch 52/300\n",
            "3/3 [==============================] - 2s 495ms/step - loss: 0.4641 - accuracy: 0.7833 - val_loss: 0.4436 - val_accuracy: 0.7901\n",
            "Epoch 53/300\n",
            "3/3 [==============================] - 2s 530ms/step - loss: 0.4515 - accuracy: 0.7957 - val_loss: 0.4243 - val_accuracy: 0.8519\n",
            "Epoch 54/300\n",
            "3/3 [==============================] - 2s 500ms/step - loss: 0.4689 - accuracy: 0.7771 - val_loss: 0.4180 - val_accuracy: 0.8395\n",
            "Epoch 55/300\n",
            "3/3 [==============================] - 2s 559ms/step - loss: 0.4651 - accuracy: 0.7771 - val_loss: 0.4143 - val_accuracy: 0.8272\n",
            "Epoch 56/300\n",
            "3/3 [==============================] - 3s 819ms/step - loss: 0.4468 - accuracy: 0.7957 - val_loss: 0.4025 - val_accuracy: 0.8272\n",
            "Epoch 57/300\n",
            "3/3 [==============================] - 2s 505ms/step - loss: 0.4324 - accuracy: 0.7988 - val_loss: 0.3877 - val_accuracy: 0.8519\n",
            "Epoch 58/300\n",
            "3/3 [==============================] - 2s 507ms/step - loss: 0.4489 - accuracy: 0.7957 - val_loss: 0.3736 - val_accuracy: 0.8765\n",
            "Epoch 59/300\n",
            "3/3 [==============================] - 2s 506ms/step - loss: 0.4283 - accuracy: 0.7957 - val_loss: 0.3901 - val_accuracy: 0.8519\n",
            "Epoch 60/300\n",
            "3/3 [==============================] - 2s 505ms/step - loss: 0.4309 - accuracy: 0.8050 - val_loss: 0.4053 - val_accuracy: 0.8395\n",
            "Epoch 61/300\n",
            "3/3 [==============================] - 2s 523ms/step - loss: 0.3999 - accuracy: 0.8235 - val_loss: 0.3884 - val_accuracy: 0.8395\n",
            "Epoch 62/300\n",
            "3/3 [==============================] - 2s 510ms/step - loss: 0.4331 - accuracy: 0.7833 - val_loss: 0.3760 - val_accuracy: 0.8765\n",
            "Epoch 63/300\n",
            "3/3 [==============================] - 2s 822ms/step - loss: 0.4236 - accuracy: 0.8019 - val_loss: 0.3851 - val_accuracy: 0.8395\n",
            "Epoch 64/300\n",
            "3/3 [==============================] - 2s 502ms/step - loss: 0.4268 - accuracy: 0.8173 - val_loss: 0.3799 - val_accuracy: 0.8519\n",
            "Epoch 65/300\n",
            "3/3 [==============================] - 2s 503ms/step - loss: 0.4023 - accuracy: 0.8390 - val_loss: 0.3855 - val_accuracy: 0.8642\n",
            "Epoch 66/300\n",
            "3/3 [==============================] - 2s 506ms/step - loss: 0.4323 - accuracy: 0.8204 - val_loss: 0.3633 - val_accuracy: 0.8519\n",
            "Epoch 67/300\n",
            "3/3 [==============================] - 2s 507ms/step - loss: 0.3868 - accuracy: 0.8359 - val_loss: 0.3877 - val_accuracy: 0.8519\n",
            "Epoch 68/300\n",
            "3/3 [==============================] - 2s 504ms/step - loss: 0.4028 - accuracy: 0.8080 - val_loss: 0.3697 - val_accuracy: 0.8148\n",
            "Epoch 69/300\n",
            "3/3 [==============================] - 2s 498ms/step - loss: 0.3650 - accuracy: 0.8235 - val_loss: 0.3616 - val_accuracy: 0.8642\n",
            "Epoch 70/300\n",
            "3/3 [==============================] - 2s 752ms/step - loss: 0.4054 - accuracy: 0.8080 - val_loss: 0.3780 - val_accuracy: 0.8272\n",
            "Epoch 71/300\n",
            "3/3 [==============================] - 2s 640ms/step - loss: 0.3870 - accuracy: 0.8359 - val_loss: 0.3544 - val_accuracy: 0.8395\n",
            "Epoch 72/300\n",
            "3/3 [==============================] - 2s 500ms/step - loss: 0.3896 - accuracy: 0.8452 - val_loss: 0.3502 - val_accuracy: 0.8395\n",
            "Epoch 73/300\n",
            "3/3 [==============================] - 2s 508ms/step - loss: 0.3794 - accuracy: 0.8576 - val_loss: 0.3593 - val_accuracy: 0.8395\n",
            "Epoch 74/300\n",
            "3/3 [==============================] - 2s 492ms/step - loss: 0.3643 - accuracy: 0.8297 - val_loss: 0.3711 - val_accuracy: 0.8148\n",
            "Epoch 75/300\n",
            "3/3 [==============================] - 2s 500ms/step - loss: 0.3558 - accuracy: 0.8421 - val_loss: 0.3844 - val_accuracy: 0.7901\n",
            "Epoch 76/300\n",
            "3/3 [==============================] - 2s 513ms/step - loss: 0.3430 - accuracy: 0.8576 - val_loss: 0.3845 - val_accuracy: 0.7901\n",
            "Epoch 77/300\n",
            "3/3 [==============================] - 2s 583ms/step - loss: 0.3717 - accuracy: 0.8173 - val_loss: 0.3414 - val_accuracy: 0.8395\n",
            "Epoch 78/300\n",
            "3/3 [==============================] - 3s 824ms/step - loss: 0.3620 - accuracy: 0.8297 - val_loss: 0.3313 - val_accuracy: 0.8395\n",
            "Epoch 79/300\n",
            "3/3 [==============================] - 2s 507ms/step - loss: 0.3598 - accuracy: 0.8421 - val_loss: 0.3581 - val_accuracy: 0.8519\n",
            "Epoch 80/300\n",
            "3/3 [==============================] - 2s 505ms/step - loss: 0.3458 - accuracy: 0.8111 - val_loss: 0.3559 - val_accuracy: 0.8395\n",
            "Epoch 81/300\n",
            "3/3 [==============================] - 2s 507ms/step - loss: 0.3344 - accuracy: 0.8297 - val_loss: 0.3349 - val_accuracy: 0.8395\n",
            "Epoch 82/300\n",
            "3/3 [==============================] - 2s 505ms/step - loss: 0.3547 - accuracy: 0.8328 - val_loss: 0.3508 - val_accuracy: 0.8519\n",
            "Epoch 83/300\n",
            "3/3 [==============================] - 2s 497ms/step - loss: 0.3623 - accuracy: 0.8421 - val_loss: 0.3663 - val_accuracy: 0.8395\n",
            "Epoch 84/300\n",
            "3/3 [==============================] - 2s 506ms/step - loss: 0.3102 - accuracy: 0.8390 - val_loss: 0.3268 - val_accuracy: 0.8519\n",
            "Epoch 85/300\n",
            "3/3 [==============================] - 2s 832ms/step - loss: 0.3431 - accuracy: 0.8390 - val_loss: 0.3197 - val_accuracy: 0.8395\n",
            "Epoch 86/300\n",
            "3/3 [==============================] - 2s 504ms/step - loss: 0.3314 - accuracy: 0.8359 - val_loss: 0.4069 - val_accuracy: 0.8272\n",
            "Epoch 87/300\n",
            "3/3 [==============================] - 2s 504ms/step - loss: 0.3484 - accuracy: 0.8359 - val_loss: 0.3373 - val_accuracy: 0.8025\n",
            "Epoch 88/300\n",
            "3/3 [==============================] - 2s 538ms/step - loss: 0.3021 - accuracy: 0.8638 - val_loss: 0.3217 - val_accuracy: 0.8272\n",
            "Epoch 89/300\n",
            "3/3 [==============================] - 2s 504ms/step - loss: 0.3341 - accuracy: 0.8545 - val_loss: 0.3305 - val_accuracy: 0.8519\n",
            "Epoch 90/300\n",
            "3/3 [==============================] - 2s 501ms/step - loss: 0.2980 - accuracy: 0.8731 - val_loss: 0.2902 - val_accuracy: 0.8642\n",
            "Epoch 91/300\n",
            "3/3 [==============================] - 2s 497ms/step - loss: 0.3057 - accuracy: 0.8793 - val_loss: 0.3131 - val_accuracy: 0.8519\n",
            "Epoch 92/300\n",
            "3/3 [==============================] - 2s 795ms/step - loss: 0.3411 - accuracy: 0.8483 - val_loss: 0.3336 - val_accuracy: 0.8519\n",
            "Epoch 93/300\n",
            "3/3 [==============================] - 2s 581ms/step - loss: 0.3093 - accuracy: 0.8638 - val_loss: 0.3141 - val_accuracy: 0.8519\n",
            "Epoch 94/300\n",
            "3/3 [==============================] - 2s 511ms/step - loss: 0.2997 - accuracy: 0.8700 - val_loss: 0.2957 - val_accuracy: 0.8642\n",
            "Epoch 95/300\n",
            "3/3 [==============================] - 2s 499ms/step - loss: 0.2782 - accuracy: 0.8947 - val_loss: 0.3091 - val_accuracy: 0.8642\n",
            "Epoch 96/300\n",
            "3/3 [==============================] - 2s 508ms/step - loss: 0.2914 - accuracy: 0.8731 - val_loss: 0.2769 - val_accuracy: 0.8642\n",
            "Epoch 97/300\n",
            "3/3 [==============================] - 2s 533ms/step - loss: 0.3350 - accuracy: 0.8452 - val_loss: 0.3009 - val_accuracy: 0.8642\n",
            "Epoch 98/300\n",
            "3/3 [==============================] - 2s 495ms/step - loss: 0.2658 - accuracy: 0.8947 - val_loss: 0.3090 - val_accuracy: 0.8642\n",
            "Epoch 99/300\n",
            "3/3 [==============================] - 2s 616ms/step - loss: 0.2876 - accuracy: 0.8700 - val_loss: 0.3168 - val_accuracy: 0.8395\n",
            "Epoch 100/300\n",
            "3/3 [==============================] - 3s 783ms/step - loss: 0.2909 - accuracy: 0.8762 - val_loss: 0.2947 - val_accuracy: 0.8519\n",
            "Epoch 101/300\n",
            "3/3 [==============================] - 2s 501ms/step - loss: 0.3090 - accuracy: 0.8576 - val_loss: 0.2648 - val_accuracy: 0.8642\n",
            "Epoch 102/300\n",
            "3/3 [==============================] - 2s 512ms/step - loss: 0.2717 - accuracy: 0.8700 - val_loss: 0.3134 - val_accuracy: 0.8642\n",
            "Epoch 103/300\n",
            "3/3 [==============================] - 2s 508ms/step - loss: 0.2952 - accuracy: 0.8483 - val_loss: 0.2844 - val_accuracy: 0.8642\n",
            "Epoch 104/300\n",
            "3/3 [==============================] - 2s 497ms/step - loss: 0.2608 - accuracy: 0.8824 - val_loss: 0.2715 - val_accuracy: 0.8519\n",
            "Epoch 105/300\n",
            "3/3 [==============================] - 2s 497ms/step - loss: 0.2876 - accuracy: 0.8731 - val_loss: 0.3638 - val_accuracy: 0.8519\n",
            "Epoch 106/300\n",
            "3/3 [==============================] - 2s 489ms/step - loss: 0.2855 - accuracy: 0.8700 - val_loss: 0.2848 - val_accuracy: 0.8642\n",
            "Epoch 107/300\n",
            "3/3 [==============================] - 2s 822ms/step - loss: 0.2838 - accuracy: 0.8638 - val_loss: 0.2641 - val_accuracy: 0.8642\n",
            "Epoch 108/300\n",
            "3/3 [==============================] - 2s 501ms/step - loss: 0.2558 - accuracy: 0.8824 - val_loss: 0.3018 - val_accuracy: 0.8519\n",
            "Epoch 109/300\n",
            "3/3 [==============================] - 2s 493ms/step - loss: 0.2924 - accuracy: 0.8576 - val_loss: 0.2797 - val_accuracy: 0.8889\n",
            "Epoch 110/300\n",
            "3/3 [==============================] - 2s 492ms/step - loss: 0.2695 - accuracy: 0.8731 - val_loss: 0.2613 - val_accuracy: 0.8765\n",
            "Epoch 111/300\n",
            "3/3 [==============================] - 2s 504ms/step - loss: 0.2814 - accuracy: 0.8545 - val_loss: 0.3016 - val_accuracy: 0.8642\n",
            "Epoch 112/300\n",
            "3/3 [==============================] - 2s 525ms/step - loss: 0.2395 - accuracy: 0.9071 - val_loss: 0.2442 - val_accuracy: 0.8889\n",
            "Epoch 113/300\n",
            "3/3 [==============================] - 2s 490ms/step - loss: 0.2213 - accuracy: 0.9257 - val_loss: 0.2171 - val_accuracy: 0.8765\n",
            "Epoch 114/300\n",
            "3/3 [==============================] - 2s 733ms/step - loss: 0.2224 - accuracy: 0.9040 - val_loss: 0.2402 - val_accuracy: 0.8889\n",
            "Epoch 115/300\n",
            "3/3 [==============================] - 2s 637ms/step - loss: 0.2339 - accuracy: 0.9009 - val_loss: 0.2475 - val_accuracy: 0.8642\n",
            "Epoch 116/300\n",
            "3/3 [==============================] - 2s 489ms/step - loss: 0.2522 - accuracy: 0.8885 - val_loss: 0.2716 - val_accuracy: 0.8765\n",
            "Epoch 117/300\n",
            "3/3 [==============================] - 2s 493ms/step - loss: 0.2172 - accuracy: 0.9102 - val_loss: 0.2314 - val_accuracy: 0.8642\n",
            "Epoch 118/300\n",
            "3/3 [==============================] - 2s 500ms/step - loss: 0.2159 - accuracy: 0.8947 - val_loss: 0.2604 - val_accuracy: 0.8765\n",
            "Epoch 119/300\n",
            "3/3 [==============================] - 2s 499ms/step - loss: 0.2229 - accuracy: 0.8978 - val_loss: 0.2408 - val_accuracy: 0.8642\n",
            "Epoch 120/300\n",
            "3/3 [==============================] - 2s 502ms/step - loss: 0.2425 - accuracy: 0.8916 - val_loss: 0.2379 - val_accuracy: 0.8642\n",
            "Epoch 121/300\n",
            "3/3 [==============================] - 2s 513ms/step - loss: 0.2098 - accuracy: 0.9071 - val_loss: 0.3201 - val_accuracy: 0.8642\n",
            "Epoch 122/300\n",
            "3/3 [==============================] - 3s 818ms/step - loss: 0.2259 - accuracy: 0.9102 - val_loss: 0.2277 - val_accuracy: 0.8642\n",
            "Epoch 123/300\n",
            "3/3 [==============================] - 2s 498ms/step - loss: 0.2211 - accuracy: 0.9040 - val_loss: 0.2074 - val_accuracy: 0.9012\n",
            "Epoch 124/300\n",
            "3/3 [==============================] - 2s 500ms/step - loss: 0.2132 - accuracy: 0.9102 - val_loss: 0.2237 - val_accuracy: 0.9012\n",
            "Epoch 125/300\n",
            "3/3 [==============================] - 2s 494ms/step - loss: 0.2365 - accuracy: 0.8978 - val_loss: 0.1962 - val_accuracy: 0.9136\n",
            "Epoch 126/300\n",
            "3/3 [==============================] - 2s 492ms/step - loss: 0.2417 - accuracy: 0.9009 - val_loss: 0.2753 - val_accuracy: 0.8642\n",
            "Epoch 127/300\n",
            "3/3 [==============================] - 2s 530ms/step - loss: 0.2360 - accuracy: 0.8885 - val_loss: 0.2142 - val_accuracy: 0.9012\n",
            "Epoch 128/300\n",
            "3/3 [==============================] - 2s 499ms/step - loss: 0.2257 - accuracy: 0.8947 - val_loss: 0.1929 - val_accuracy: 0.8765\n",
            "Epoch 129/300\n",
            "3/3 [==============================] - 2s 819ms/step - loss: 0.1942 - accuracy: 0.9288 - val_loss: 0.2610 - val_accuracy: 0.8889\n",
            "Epoch 130/300\n",
            "3/3 [==============================] - 2s 532ms/step - loss: 0.2623 - accuracy: 0.8824 - val_loss: 0.2037 - val_accuracy: 0.8765\n",
            "Epoch 131/300\n",
            "3/3 [==============================] - 2s 491ms/step - loss: 0.1982 - accuracy: 0.9040 - val_loss: 0.2023 - val_accuracy: 0.8889\n",
            "Epoch 132/300\n",
            "3/3 [==============================] - 2s 494ms/step - loss: 0.1925 - accuracy: 0.9133 - val_loss: 0.2010 - val_accuracy: 0.8765\n",
            "Epoch 133/300\n",
            "3/3 [==============================] - 2s 507ms/step - loss: 0.1863 - accuracy: 0.9257 - val_loss: 0.1998 - val_accuracy: 0.9012\n",
            "Epoch 134/300\n",
            "3/3 [==============================] - 2s 502ms/step - loss: 0.2025 - accuracy: 0.9133 - val_loss: 0.1855 - val_accuracy: 0.9012\n",
            "Epoch 135/300\n",
            "3/3 [==============================] - 2s 495ms/step - loss: 0.1811 - accuracy: 0.9288 - val_loss: 0.1752 - val_accuracy: 0.9136\n",
            "Epoch 136/300\n",
            "3/3 [==============================] - 2s 634ms/step - loss: 0.1711 - accuracy: 0.9350 - val_loss: 0.2035 - val_accuracy: 0.8889\n",
            "Epoch 137/300\n",
            "3/3 [==============================] - 2s 729ms/step - loss: 0.2235 - accuracy: 0.8947 - val_loss: 0.2141 - val_accuracy: 0.8889\n",
            "Epoch 138/300\n",
            "3/3 [==============================] - 2s 500ms/step - loss: 0.1548 - accuracy: 0.9443 - val_loss: 0.2043 - val_accuracy: 0.9012\n",
            "Epoch 139/300\n",
            "3/3 [==============================] - 2s 497ms/step - loss: 0.1564 - accuracy: 0.9443 - val_loss: 0.1836 - val_accuracy: 0.8889\n",
            "Epoch 140/300\n",
            "3/3 [==============================] - 2s 493ms/step - loss: 0.1836 - accuracy: 0.9381 - val_loss: 0.2303 - val_accuracy: 0.9012\n",
            "Epoch 141/300\n",
            "3/3 [==============================] - 2s 503ms/step - loss: 0.1540 - accuracy: 0.9350 - val_loss: 0.1995 - val_accuracy: 0.9012\n",
            "Epoch 142/300\n",
            "3/3 [==============================] - 2s 499ms/step - loss: 0.1654 - accuracy: 0.9412 - val_loss: 0.1703 - val_accuracy: 0.9136\n",
            "Epoch 143/300\n",
            "3/3 [==============================] - 2s 502ms/step - loss: 0.1775 - accuracy: 0.9195 - val_loss: 0.1643 - val_accuracy: 0.9012\n",
            "Epoch 144/300\n",
            "3/3 [==============================] - 3s 839ms/step - loss: 0.2165 - accuracy: 0.9102 - val_loss: 0.2035 - val_accuracy: 0.9012\n",
            "Epoch 145/300\n",
            "3/3 [==============================] - 2s 502ms/step - loss: 0.1540 - accuracy: 0.9443 - val_loss: 0.2319 - val_accuracy: 0.9012\n",
            "Epoch 146/300\n",
            "3/3 [==============================] - 2s 501ms/step - loss: 0.2110 - accuracy: 0.8947 - val_loss: 0.2122 - val_accuracy: 0.9136\n",
            "Epoch 147/300\n",
            "3/3 [==============================] - 2s 501ms/step - loss: 0.1959 - accuracy: 0.9102 - val_loss: 0.1886 - val_accuracy: 0.9012\n",
            "Epoch 148/300\n",
            "3/3 [==============================] - 2s 509ms/step - loss: 0.2100 - accuracy: 0.9102 - val_loss: 0.1494 - val_accuracy: 0.9136\n",
            "Epoch 149/300\n",
            "3/3 [==============================] - 2s 500ms/step - loss: 0.1775 - accuracy: 0.9319 - val_loss: 0.2044 - val_accuracy: 0.9012\n",
            "Epoch 150/300\n",
            "3/3 [==============================] - 2s 504ms/step - loss: 0.1789 - accuracy: 0.9195 - val_loss: 0.2987 - val_accuracy: 0.8519\n",
            "Epoch 151/300\n",
            "3/3 [==============================] - 2s 800ms/step - loss: 0.1694 - accuracy: 0.9288 - val_loss: 0.2396 - val_accuracy: 0.8889\n",
            "Epoch 152/300\n",
            "3/3 [==============================] - 2s 567ms/step - loss: 0.1446 - accuracy: 0.9474 - val_loss: 0.2132 - val_accuracy: 0.8889\n",
            "Epoch 153/300\n",
            "3/3 [==============================] - 2s 491ms/step - loss: 0.1556 - accuracy: 0.9443 - val_loss: 0.1615 - val_accuracy: 0.9012\n",
            "Epoch 154/300\n",
            "3/3 [==============================] - 2s 510ms/step - loss: 0.1464 - accuracy: 0.9443 - val_loss: 0.1445 - val_accuracy: 0.9136\n",
            "Epoch 155/300\n",
            "3/3 [==============================] - 2s 496ms/step - loss: 0.1674 - accuracy: 0.9257 - val_loss: 0.1719 - val_accuracy: 0.9012\n",
            "Epoch 156/300\n",
            "3/3 [==============================] - 2s 496ms/step - loss: 0.1623 - accuracy: 0.9257 - val_loss: 0.2070 - val_accuracy: 0.8889\n",
            "Epoch 157/300\n",
            "3/3 [==============================] - 2s 513ms/step - loss: 0.1589 - accuracy: 0.9164 - val_loss: 0.2105 - val_accuracy: 0.9012\n",
            "Epoch 158/300\n",
            "3/3 [==============================] - 2s 631ms/step - loss: 0.1377 - accuracy: 0.9536 - val_loss: 0.1746 - val_accuracy: 0.8889\n",
            "Epoch 159/300\n",
            "3/3 [==============================] - 3s 804ms/step - loss: 0.1465 - accuracy: 0.9350 - val_loss: 0.1796 - val_accuracy: 0.8765\n",
            "Epoch 160/300\n",
            "3/3 [==============================] - 2s 498ms/step - loss: 0.1731 - accuracy: 0.9319 - val_loss: 0.1711 - val_accuracy: 0.8889\n",
            "Epoch 161/300\n",
            "3/3 [==============================] - 2s 493ms/step - loss: 0.1696 - accuracy: 0.9257 - val_loss: 0.1848 - val_accuracy: 0.9136\n",
            "Epoch 162/300\n",
            "3/3 [==============================] - 2s 513ms/step - loss: 0.1744 - accuracy: 0.9412 - val_loss: 0.1837 - val_accuracy: 0.8889\n",
            "Epoch 163/300\n",
            "3/3 [==============================] - 2s 489ms/step - loss: 0.1358 - accuracy: 0.9505 - val_loss: 0.1412 - val_accuracy: 0.9383\n",
            "Epoch 164/300\n",
            "3/3 [==============================] - 2s 492ms/step - loss: 0.1460 - accuracy: 0.9412 - val_loss: 0.1371 - val_accuracy: 0.9506\n",
            "Epoch 165/300\n",
            "3/3 [==============================] - 2s 503ms/step - loss: 0.1598 - accuracy: 0.9381 - val_loss: 0.1772 - val_accuracy: 0.9012\n",
            "Epoch 166/300\n",
            "3/3 [==============================] - 3s 846ms/step - loss: 0.1772 - accuracy: 0.9226 - val_loss: 0.1400 - val_accuracy: 0.9383\n",
            "Epoch 167/300\n",
            "3/3 [==============================] - 2s 501ms/step - loss: 0.1270 - accuracy: 0.9598 - val_loss: 0.1564 - val_accuracy: 0.9136\n",
            "Epoch 168/300\n",
            "3/3 [==============================] - 2s 504ms/step - loss: 0.1480 - accuracy: 0.9350 - val_loss: 0.1515 - val_accuracy: 0.9259\n",
            "Epoch 169/300\n",
            "3/3 [==============================] - 2s 509ms/step - loss: 0.1177 - accuracy: 0.9659 - val_loss: 0.1537 - val_accuracy: 0.9259\n",
            "Epoch 170/300\n",
            "3/3 [==============================] - 2s 509ms/step - loss: 0.1446 - accuracy: 0.9474 - val_loss: 0.1450 - val_accuracy: 0.9383\n",
            "Epoch 171/300\n",
            "3/3 [==============================] - 2s 504ms/step - loss: 0.1004 - accuracy: 0.9721 - val_loss: 0.2309 - val_accuracy: 0.9012\n",
            "Epoch 172/300\n",
            "3/3 [==============================] - 2s 503ms/step - loss: 0.1868 - accuracy: 0.9412 - val_loss: 0.1584 - val_accuracy: 0.9012\n",
            "Epoch 173/300\n",
            "3/3 [==============================] - 2s 790ms/step - loss: 0.1605 - accuracy: 0.9412 - val_loss: 0.1634 - val_accuracy: 0.9259\n",
            "Epoch 174/300\n",
            "3/3 [==============================] - 2s 563ms/step - loss: 0.1664 - accuracy: 0.9319 - val_loss: 0.1648 - val_accuracy: 0.9136\n",
            "Epoch 175/300\n",
            "3/3 [==============================] - 2s 500ms/step - loss: 0.1361 - accuracy: 0.9319 - val_loss: 0.1519 - val_accuracy: 0.9259\n",
            "Epoch 176/300\n",
            "3/3 [==============================] - 2s 510ms/step - loss: 0.1338 - accuracy: 0.9505 - val_loss: 0.2116 - val_accuracy: 0.9012\n",
            "Epoch 177/300\n",
            "3/3 [==============================] - 2s 505ms/step - loss: 0.1472 - accuracy: 0.9505 - val_loss: 0.1180 - val_accuracy: 0.9506\n",
            "Epoch 178/300\n",
            "3/3 [==============================] - 2s 503ms/step - loss: 0.1438 - accuracy: 0.9412 - val_loss: 0.1249 - val_accuracy: 0.9506\n",
            "Epoch 179/300\n",
            "3/3 [==============================] - 2s 507ms/step - loss: 0.1313 - accuracy: 0.9443 - val_loss: 0.1749 - val_accuracy: 0.9136\n",
            "Epoch 180/300\n",
            "3/3 [==============================] - 2s 650ms/step - loss: 0.1527 - accuracy: 0.9319 - val_loss: 0.1368 - val_accuracy: 0.9259\n",
            "Epoch 181/300\n",
            "3/3 [==============================] - 2s 714ms/step - loss: 0.1259 - accuracy: 0.9505 - val_loss: 0.1199 - val_accuracy: 0.9506\n",
            "Epoch 182/300\n",
            "3/3 [==============================] - 2s 502ms/step - loss: 0.1543 - accuracy: 0.9226 - val_loss: 0.1631 - val_accuracy: 0.9012\n",
            "Epoch 183/300\n",
            "3/3 [==============================] - 2s 505ms/step - loss: 0.1870 - accuracy: 0.9257 - val_loss: 0.1997 - val_accuracy: 0.9136\n",
            "Epoch 184/300\n",
            "3/3 [==============================] - 2s 500ms/step - loss: 0.1425 - accuracy: 0.9412 - val_loss: 0.1539 - val_accuracy: 0.8889\n",
            "Epoch 185/300\n",
            "3/3 [==============================] - 2s 492ms/step - loss: 0.1560 - accuracy: 0.9381 - val_loss: 0.1916 - val_accuracy: 0.9136\n",
            "Epoch 186/300\n",
            "3/3 [==============================] - 2s 492ms/step - loss: 0.1600 - accuracy: 0.9350 - val_loss: 0.1866 - val_accuracy: 0.9012\n",
            "Epoch 187/300\n",
            "3/3 [==============================] - 2s 494ms/step - loss: 0.1462 - accuracy: 0.9319 - val_loss: 0.1599 - val_accuracy: 0.9259\n",
            "Epoch 188/300\n",
            "3/3 [==============================] - 3s 826ms/step - loss: 0.1260 - accuracy: 0.9628 - val_loss: 0.2117 - val_accuracy: 0.9012\n",
            "Epoch 189/300\n",
            "3/3 [==============================] - 2s 495ms/step - loss: 0.1444 - accuracy: 0.9412 - val_loss: 0.1922 - val_accuracy: 0.9012\n",
            "Epoch 190/300\n",
            "3/3 [==============================] - 2s 509ms/step - loss: 0.1235 - accuracy: 0.9598 - val_loss: 0.1462 - val_accuracy: 0.9259\n",
            "Epoch 191/300\n",
            "3/3 [==============================] - 2s 499ms/step - loss: 0.1131 - accuracy: 0.9567 - val_loss: 0.1340 - val_accuracy: 0.9506\n",
            "Epoch 192/300\n",
            "3/3 [==============================] - 2s 490ms/step - loss: 0.1013 - accuracy: 0.9598 - val_loss: 0.1536 - val_accuracy: 0.9012\n",
            "Epoch 193/300\n",
            "3/3 [==============================] - 2s 503ms/step - loss: 0.1155 - accuracy: 0.9443 - val_loss: 0.1435 - val_accuracy: 0.9383\n",
            "Epoch 194/300\n",
            "3/3 [==============================] - 2s 497ms/step - loss: 0.1103 - accuracy: 0.9567 - val_loss: 0.1446 - val_accuracy: 0.9383\n",
            "Epoch 195/300\n",
            "3/3 [==============================] - 2s 772ms/step - loss: 0.0916 - accuracy: 0.9659 - val_loss: 0.1461 - val_accuracy: 0.9259\n",
            "Epoch 196/300\n",
            "3/3 [==============================] - 2s 610ms/step - loss: 0.1090 - accuracy: 0.9659 - val_loss: 0.1201 - val_accuracy: 0.9383\n",
            "Epoch 197/300\n",
            "3/3 [==============================] - 2s 501ms/step - loss: 0.1220 - accuracy: 0.9474 - val_loss: 0.0911 - val_accuracy: 0.9630\n",
            "Epoch 198/300\n",
            "3/3 [==============================] - 2s 484ms/step - loss: 0.1343 - accuracy: 0.9412 - val_loss: 0.1177 - val_accuracy: 0.9506\n",
            "Epoch 199/300\n",
            "3/3 [==============================] - 2s 523ms/step - loss: 0.1077 - accuracy: 0.9567 - val_loss: 0.1778 - val_accuracy: 0.9136\n",
            "Epoch 200/300\n",
            "3/3 [==============================] - 2s 493ms/step - loss: 0.1289 - accuracy: 0.9567 - val_loss: 0.1948 - val_accuracy: 0.9259\n",
            "Epoch 201/300\n",
            "3/3 [==============================] - 2s 489ms/step - loss: 0.1416 - accuracy: 0.9226 - val_loss: 0.1386 - val_accuracy: 0.9383\n",
            "Epoch 202/300\n",
            "3/3 [==============================] - 2s 551ms/step - loss: 0.1063 - accuracy: 0.9536 - val_loss: 0.1191 - val_accuracy: 0.9383\n",
            "Epoch 203/300\n",
            "3/3 [==============================] - 3s 819ms/step - loss: 0.1251 - accuracy: 0.9381 - val_loss: 0.1057 - val_accuracy: 0.9630\n",
            "Epoch 204/300\n",
            "3/3 [==============================] - 2s 496ms/step - loss: 0.0901 - accuracy: 0.9752 - val_loss: 0.1024 - val_accuracy: 0.9877\n",
            "Epoch 205/300\n",
            "3/3 [==============================] - 2s 492ms/step - loss: 0.0982 - accuracy: 0.9628 - val_loss: 0.1179 - val_accuracy: 0.9630\n",
            "Epoch 206/300\n",
            "3/3 [==============================] - 2s 493ms/step - loss: 0.0921 - accuracy: 0.9690 - val_loss: 0.1379 - val_accuracy: 0.9506\n",
            "Epoch 207/300\n",
            "3/3 [==============================] - 2s 496ms/step - loss: 0.0955 - accuracy: 0.9567 - val_loss: 0.1490 - val_accuracy: 0.9506\n",
            "Epoch 208/300\n",
            "3/3 [==============================] - 2s 492ms/step - loss: 0.1041 - accuracy: 0.9598 - val_loss: 0.1391 - val_accuracy: 0.9259\n",
            "Epoch 209/300\n",
            "3/3 [==============================] - 2s 498ms/step - loss: 0.0959 - accuracy: 0.9659 - val_loss: 0.1146 - val_accuracy: 0.9259\n",
            "Epoch 210/300\n",
            "3/3 [==============================] - 2s 828ms/step - loss: 0.0888 - accuracy: 0.9567 - val_loss: 0.1410 - val_accuracy: 0.9259\n",
            "Epoch 211/300\n",
            "3/3 [==============================] - 2s 508ms/step - loss: 0.0863 - accuracy: 0.9659 - val_loss: 0.1804 - val_accuracy: 0.9259\n",
            "Epoch 212/300\n",
            "3/3 [==============================] - 2s 494ms/step - loss: 0.1130 - accuracy: 0.9628 - val_loss: 0.1421 - val_accuracy: 0.9383\n",
            "Epoch 213/300\n",
            "3/3 [==============================] - 2s 519ms/step - loss: 0.1344 - accuracy: 0.9412 - val_loss: 0.0977 - val_accuracy: 0.9630\n",
            "Epoch 214/300\n",
            "3/3 [==============================] - 2s 515ms/step - loss: 0.0854 - accuracy: 0.9659 - val_loss: 0.1066 - val_accuracy: 0.9506\n",
            "Epoch 215/300\n",
            "3/3 [==============================] - 2s 534ms/step - loss: 0.1238 - accuracy: 0.9443 - val_loss: 0.1096 - val_accuracy: 0.9506\n",
            "Epoch 216/300\n",
            "3/3 [==============================] - 2s 526ms/step - loss: 0.0936 - accuracy: 0.9536 - val_loss: 0.1057 - val_accuracy: 0.9506\n",
            "Epoch 217/300\n",
            "3/3 [==============================] - 2s 768ms/step - loss: 0.1175 - accuracy: 0.9474 - val_loss: 0.1243 - val_accuracy: 0.9506\n",
            "Epoch 218/300\n",
            "3/3 [==============================] - 2s 611ms/step - loss: 0.1062 - accuracy: 0.9690 - val_loss: 0.1643 - val_accuracy: 0.9012\n",
            "Epoch 219/300\n",
            "3/3 [==============================] - 2s 514ms/step - loss: 0.0746 - accuracy: 0.9783 - val_loss: 0.1572 - val_accuracy: 0.9383\n",
            "Epoch 220/300\n",
            "3/3 [==============================] - 2s 497ms/step - loss: 0.0942 - accuracy: 0.9752 - val_loss: 0.1099 - val_accuracy: 0.9630\n",
            "Epoch 221/300\n",
            "3/3 [==============================] - 2s 492ms/step - loss: 0.0674 - accuracy: 0.9752 - val_loss: 0.1210 - val_accuracy: 0.9383\n",
            "Epoch 222/300\n",
            "3/3 [==============================] - 2s 506ms/step - loss: 0.0859 - accuracy: 0.9628 - val_loss: 0.1320 - val_accuracy: 0.9259\n",
            "Epoch 223/300\n",
            "3/3 [==============================] - 2s 494ms/step - loss: 0.0924 - accuracy: 0.9659 - val_loss: 0.1303 - val_accuracy: 0.9630\n",
            "Epoch 224/300\n",
            "3/3 [==============================] - 2s 601ms/step - loss: 0.0772 - accuracy: 0.9721 - val_loss: 0.1328 - val_accuracy: 0.9506\n",
            "Epoch 225/300\n",
            "3/3 [==============================] - 3s 768ms/step - loss: 0.1027 - accuracy: 0.9505 - val_loss: 0.1322 - val_accuracy: 0.9506\n",
            "Epoch 226/300\n",
            "3/3 [==============================] - 2s 506ms/step - loss: 0.1022 - accuracy: 0.9567 - val_loss: 0.1699 - val_accuracy: 0.9259\n",
            "Epoch 227/300\n",
            "3/3 [==============================] - 2s 502ms/step - loss: 0.1087 - accuracy: 0.9598 - val_loss: 0.1284 - val_accuracy: 0.9506\n",
            "Epoch 228/300\n",
            "3/3 [==============================] - 2s 519ms/step - loss: 0.0925 - accuracy: 0.9598 - val_loss: 0.1279 - val_accuracy: 0.9383\n",
            "Epoch 229/300\n",
            "3/3 [==============================] - 2s 498ms/step - loss: 0.0842 - accuracy: 0.9752 - val_loss: 0.1593 - val_accuracy: 0.9383\n",
            "Epoch 230/300\n",
            "3/3 [==============================] - 2s 504ms/step - loss: 0.1064 - accuracy: 0.9536 - val_loss: 0.1499 - val_accuracy: 0.9259\n",
            "Epoch 231/300\n",
            "3/3 [==============================] - 2s 526ms/step - loss: 0.1010 - accuracy: 0.9598 - val_loss: 0.1515 - val_accuracy: 0.9259\n",
            "Epoch 232/300\n",
            "3/3 [==============================] - 3s 1s/step - loss: 0.0866 - accuracy: 0.9659 - val_loss: 0.1386 - val_accuracy: 0.9383\n",
            "Epoch 233/300\n",
            "3/3 [==============================] - 2s 504ms/step - loss: 0.0851 - accuracy: 0.9659 - val_loss: 0.1121 - val_accuracy: 0.9630\n",
            "Epoch 234/300\n",
            "3/3 [==============================] - 2s 496ms/step - loss: 0.0822 - accuracy: 0.9659 - val_loss: 0.0930 - val_accuracy: 0.9753\n",
            "Epoch 235/300\n",
            "3/3 [==============================] - 2s 500ms/step - loss: 0.0775 - accuracy: 0.9721 - val_loss: 0.0850 - val_accuracy: 0.9630\n",
            "Epoch 236/300\n",
            "3/3 [==============================] - 2s 504ms/step - loss: 0.0821 - accuracy: 0.9783 - val_loss: 0.0897 - val_accuracy: 0.9630\n",
            "Epoch 237/300\n",
            "3/3 [==============================] - 2s 496ms/step - loss: 0.1046 - accuracy: 0.9536 - val_loss: 0.1210 - val_accuracy: 0.9383\n",
            "Epoch 238/300\n",
            "3/3 [==============================] - 2s 492ms/step - loss: 0.0743 - accuracy: 0.9659 - val_loss: 0.1136 - val_accuracy: 0.9506\n",
            "Epoch 239/300\n",
            "3/3 [==============================] - 2s 847ms/step - loss: 0.0725 - accuracy: 0.9628 - val_loss: 0.1423 - val_accuracy: 0.9383\n",
            "Epoch 240/300\n",
            "3/3 [==============================] - 2s 527ms/step - loss: 0.0800 - accuracy: 0.9659 - val_loss: 0.1290 - val_accuracy: 0.9383\n",
            "Epoch 241/300\n",
            "3/3 [==============================] - 2s 497ms/step - loss: 0.0523 - accuracy: 0.9845 - val_loss: 0.1223 - val_accuracy: 0.9753\n",
            "Epoch 242/300\n",
            "3/3 [==============================] - 2s 496ms/step - loss: 0.0873 - accuracy: 0.9690 - val_loss: 0.1111 - val_accuracy: 0.9630\n",
            "Epoch 243/300\n",
            "3/3 [==============================] - 2s 525ms/step - loss: 0.0906 - accuracy: 0.9628 - val_loss: 0.1057 - val_accuracy: 0.9630\n",
            "Epoch 244/300\n",
            "3/3 [==============================] - 2s 510ms/step - loss: 0.0957 - accuracy: 0.9628 - val_loss: 0.1096 - val_accuracy: 0.9383\n",
            "Epoch 245/300\n",
            "3/3 [==============================] - 2s 495ms/step - loss: 0.1141 - accuracy: 0.9505 - val_loss: 0.0955 - val_accuracy: 0.9753\n",
            "Epoch 246/300\n",
            "3/3 [==============================] - 2s 712ms/step - loss: 0.1004 - accuracy: 0.9567 - val_loss: 0.1103 - val_accuracy: 0.9753\n",
            "Epoch 247/300\n",
            "3/3 [==============================] - 2s 662ms/step - loss: 0.0854 - accuracy: 0.9628 - val_loss: 0.1068 - val_accuracy: 0.9630\n",
            "Epoch 248/300\n",
            "3/3 [==============================] - 2s 505ms/step - loss: 0.0757 - accuracy: 0.9752 - val_loss: 0.1167 - val_accuracy: 0.9753\n",
            "Epoch 249/300\n",
            "3/3 [==============================] - 2s 502ms/step - loss: 0.0487 - accuracy: 0.9814 - val_loss: 0.1155 - val_accuracy: 0.9630\n",
            "Epoch 250/300\n",
            "3/3 [==============================] - 2s 514ms/step - loss: 0.0880 - accuracy: 0.9628 - val_loss: 0.1163 - val_accuracy: 0.9630\n",
            "Epoch 251/300\n",
            "3/3 [==============================] - 2s 494ms/step - loss: 0.0807 - accuracy: 0.9690 - val_loss: 0.1118 - val_accuracy: 0.9753\n",
            "Epoch 252/300\n",
            "3/3 [==============================] - 2s 507ms/step - loss: 0.0584 - accuracy: 0.9783 - val_loss: 0.1170 - val_accuracy: 0.9506\n",
            "Epoch 253/300\n",
            "3/3 [==============================] - 2s 550ms/step - loss: 0.0681 - accuracy: 0.9690 - val_loss: 0.1069 - val_accuracy: 0.9383\n",
            "Epoch 254/300\n",
            "3/3 [==============================] - 3s 811ms/step - loss: 0.0512 - accuracy: 0.9783 - val_loss: 0.0994 - val_accuracy: 0.9506\n",
            "Epoch 255/300\n",
            "3/3 [==============================] - 2s 500ms/step - loss: 0.0709 - accuracy: 0.9721 - val_loss: 0.1121 - val_accuracy: 0.9383\n",
            "Epoch 256/300\n",
            "3/3 [==============================] - 2s 515ms/step - loss: 0.0886 - accuracy: 0.9567 - val_loss: 0.1311 - val_accuracy: 0.9506\n",
            "Epoch 257/300\n",
            "3/3 [==============================] - 2s 500ms/step - loss: 0.0702 - accuracy: 0.9783 - val_loss: 0.1980 - val_accuracy: 0.9259\n",
            "Epoch 258/300\n",
            "3/3 [==============================] - 2s 501ms/step - loss: 0.1283 - accuracy: 0.9474 - val_loss: 0.1266 - val_accuracy: 0.9383\n",
            "Epoch 259/300\n",
            "3/3 [==============================] - 2s 488ms/step - loss: 0.0906 - accuracy: 0.9628 - val_loss: 0.1116 - val_accuracy: 0.9630\n",
            "Epoch 260/300\n",
            "3/3 [==============================] - 2s 502ms/step - loss: 0.1107 - accuracy: 0.9690 - val_loss: 0.1167 - val_accuracy: 0.9630\n",
            "Epoch 261/300\n",
            "3/3 [==============================] - 2s 842ms/step - loss: 0.0672 - accuracy: 0.9690 - val_loss: 0.1302 - val_accuracy: 0.9506\n",
            "Epoch 262/300\n",
            "3/3 [==============================] - 2s 516ms/step - loss: 0.1014 - accuracy: 0.9659 - val_loss: 0.1717 - val_accuracy: 0.9506\n",
            "Epoch 263/300\n",
            "3/3 [==============================] - 2s 511ms/step - loss: 0.0582 - accuracy: 0.9783 - val_loss: 0.1295 - val_accuracy: 0.9259\n",
            "Epoch 264/300\n",
            "3/3 [==============================] - 2s 500ms/step - loss: 0.0695 - accuracy: 0.9752 - val_loss: 0.1259 - val_accuracy: 0.9383\n",
            "Epoch 265/300\n",
            "3/3 [==============================] - 2s 510ms/step - loss: 0.0787 - accuracy: 0.9628 - val_loss: 0.0975 - val_accuracy: 0.9753\n",
            "Epoch 266/300\n",
            "3/3 [==============================] - 2s 502ms/step - loss: 0.0705 - accuracy: 0.9752 - val_loss: 0.1614 - val_accuracy: 0.9259\n",
            "Epoch 267/300\n",
            "3/3 [==============================] - 2s 499ms/step - loss: 0.0600 - accuracy: 0.9814 - val_loss: 0.1252 - val_accuracy: 0.9506\n",
            "Epoch 268/300\n",
            "3/3 [==============================] - 2s 690ms/step - loss: 0.0665 - accuracy: 0.9721 - val_loss: 0.1348 - val_accuracy: 0.9259\n",
            "Epoch 269/300\n",
            "3/3 [==============================] - 2s 694ms/step - loss: 0.0783 - accuracy: 0.9690 - val_loss: 0.1338 - val_accuracy: 0.9383\n",
            "Epoch 270/300\n",
            "3/3 [==============================] - 2s 501ms/step - loss: 0.0785 - accuracy: 0.9752 - val_loss: 0.1127 - val_accuracy: 0.9506\n",
            "Epoch 271/300\n",
            "3/3 [==============================] - 2s 509ms/step - loss: 0.0779 - accuracy: 0.9721 - val_loss: 0.1067 - val_accuracy: 0.9506\n",
            "Epoch 272/300\n",
            "3/3 [==============================] - 2s 507ms/step - loss: 0.0631 - accuracy: 0.9783 - val_loss: 0.1248 - val_accuracy: 0.9630\n",
            "Epoch 273/300\n",
            "3/3 [==============================] - 2s 492ms/step - loss: 0.0536 - accuracy: 0.9814 - val_loss: 0.1079 - val_accuracy: 0.9630\n",
            "Epoch 274/300\n",
            "3/3 [==============================] - 2s 497ms/step - loss: 0.0840 - accuracy: 0.9690 - val_loss: 0.0849 - val_accuracy: 0.9877\n",
            "Epoch 275/300\n",
            "3/3 [==============================] - 2s 534ms/step - loss: 0.0768 - accuracy: 0.9690 - val_loss: 0.0975 - val_accuracy: 0.9753\n",
            "Epoch 276/300\n",
            "3/3 [==============================] - 3s 836ms/step - loss: 0.0505 - accuracy: 0.9876 - val_loss: 0.1230 - val_accuracy: 0.9506\n",
            "Epoch 277/300\n",
            "3/3 [==============================] - 2s 491ms/step - loss: 0.0684 - accuracy: 0.9814 - val_loss: 0.1008 - val_accuracy: 0.9753\n",
            "Epoch 278/300\n",
            "3/3 [==============================] - 2s 518ms/step - loss: 0.0700 - accuracy: 0.9567 - val_loss: 0.0889 - val_accuracy: 0.9877\n",
            "Epoch 279/300\n",
            "3/3 [==============================] - 2s 518ms/step - loss: 0.0770 - accuracy: 0.9690 - val_loss: 0.0928 - val_accuracy: 0.9877\n",
            "Epoch 280/300\n",
            "3/3 [==============================] - 2s 503ms/step - loss: 0.0827 - accuracy: 0.9690 - val_loss: 0.0904 - val_accuracy: 0.9877\n",
            "Epoch 281/300\n",
            "3/3 [==============================] - 2s 512ms/step - loss: 0.0635 - accuracy: 0.9690 - val_loss: 0.0672 - val_accuracy: 0.9877\n",
            "Epoch 282/300\n",
            "3/3 [==============================] - 2s 503ms/step - loss: 0.0692 - accuracy: 0.9659 - val_loss: 0.0736 - val_accuracy: 0.9877\n",
            "Epoch 283/300\n",
            "3/3 [==============================] - 2s 803ms/step - loss: 0.0432 - accuracy: 0.9876 - val_loss: 0.0819 - val_accuracy: 0.9877\n",
            "Epoch 284/300\n",
            "3/3 [==============================] - 2s 549ms/step - loss: 0.0450 - accuracy: 0.9845 - val_loss: 0.1067 - val_accuracy: 0.9630\n",
            "Epoch 285/300\n",
            "3/3 [==============================] - 2s 509ms/step - loss: 0.0560 - accuracy: 0.9721 - val_loss: 0.1632 - val_accuracy: 0.9506\n",
            "Epoch 286/300\n",
            "3/3 [==============================] - 2s 512ms/step - loss: 0.0557 - accuracy: 0.9845 - val_loss: 0.1464 - val_accuracy: 0.9506\n",
            "Epoch 287/300\n",
            "3/3 [==============================] - 2s 503ms/step - loss: 0.0661 - accuracy: 0.9752 - val_loss: 0.1457 - val_accuracy: 0.9630\n",
            "Epoch 288/300\n",
            "3/3 [==============================] - 2s 503ms/step - loss: 0.0591 - accuracy: 0.9783 - val_loss: 0.1781 - val_accuracy: 0.9383\n",
            "Epoch 289/300\n",
            "3/3 [==============================] - 2s 507ms/step - loss: 0.0776 - accuracy: 0.9721 - val_loss: 0.1128 - val_accuracy: 0.9630\n",
            "Epoch 290/300\n",
            "3/3 [==============================] - 2s 683ms/step - loss: 0.0654 - accuracy: 0.9721 - val_loss: 0.0844 - val_accuracy: 0.9877\n",
            "Epoch 291/300\n",
            "3/3 [==============================] - 2s 746ms/step - loss: 0.0460 - accuracy: 0.9814 - val_loss: 0.0830 - val_accuracy: 0.9630\n",
            "Epoch 292/300\n",
            "3/3 [==============================] - 2s 499ms/step - loss: 0.0434 - accuracy: 0.9876 - val_loss: 0.1032 - val_accuracy: 0.9506\n",
            "Epoch 293/300\n",
            "3/3 [==============================] - 2s 496ms/step - loss: 0.0689 - accuracy: 0.9628 - val_loss: 0.0833 - val_accuracy: 0.9753\n",
            "Epoch 294/300\n",
            "3/3 [==============================] - 2s 507ms/step - loss: 0.0477 - accuracy: 0.9814 - val_loss: 0.0832 - val_accuracy: 0.9877\n",
            "Epoch 295/300\n",
            "3/3 [==============================] - 2s 500ms/step - loss: 0.0519 - accuracy: 0.9814 - val_loss: 0.1191 - val_accuracy: 0.9630\n",
            "Epoch 296/300\n",
            "3/3 [==============================] - 2s 499ms/step - loss: 0.0799 - accuracy: 0.9659 - val_loss: 0.1036 - val_accuracy: 0.9877\n",
            "Epoch 297/300\n",
            "3/3 [==============================] - 2s 509ms/step - loss: 0.0407 - accuracy: 0.9814 - val_loss: 0.1140 - val_accuracy: 0.9630\n",
            "Epoch 298/300\n",
            "3/3 [==============================] - 3s 850ms/step - loss: 0.0441 - accuracy: 0.9814 - val_loss: 0.1133 - val_accuracy: 0.9630\n",
            "Epoch 299/300\n",
            "3/3 [==============================] - 2s 500ms/step - loss: 0.0379 - accuracy: 0.9845 - val_loss: 0.1083 - val_accuracy: 0.9630\n",
            "Epoch 300/300\n",
            "3/3 [==============================] - 2s 506ms/step - loss: 0.0445 - accuracy: 0.9845 - val_loss: 0.0981 - val_accuracy: 0.9753\n",
            "CPU times: user 13min 40s, sys: 58.4 s, total: 14min 38s\n",
            "Wall time: 8min 51s\n"
          ]
        }
      ],
      "source": [
        "%%time\n",
        "history = model.fit(x_train, y_train,\n",
        "              batch_size=128,\n",
        "              epochs=300,\n",
        "              validation_data=(x_test, y_test),\n",
        "              shuffle=True)"
      ]
    },
    {
      "cell_type": "code",
      "execution_count": null,
      "id": "36110270",
      "metadata": {
        "execution": {
          "iopub.execute_input": "2022-07-03T06:50:21.485525Z",
          "iopub.status.busy": "2022-07-03T06:50:21.485161Z",
          "iopub.status.idle": "2022-07-03T06:50:21.911899Z",
          "shell.execute_reply": "2022-07-03T06:50:21.911071Z"
        },
        "papermill": {
          "duration": 0.660538,
          "end_time": "2022-07-03T06:50:21.913782",
          "exception": false,
          "start_time": "2022-07-03T06:50:21.253244",
          "status": "completed"
        },
        "tags": [],
        "id": "36110270",
        "outputId": "66b69b49-a325-4674-894d-06573a6a1903",
        "colab": {
          "base_uri": "https://localhost:8080/",
          "height": 664
        }
      },
      "outputs": [
        {
          "output_type": "execute_result",
          "data": {
            "text/plain": [
              "Text(0.5, 1.0, 'Accuracy Curves')"
            ]
          },
          "metadata": {},
          "execution_count": 95
        },
        {
          "output_type": "display_data",
          "data": {
            "text/plain": [
              "<Figure size 1008x720 with 1 Axes>"
            ],
            "image/png": "[encoded data removed]"
          },
          "metadata": {
            "needs_background": "light"
          }
        },
        {
          "output_type": "display_data",
          "data": {
            "text/plain": [
              "<Figure size 1008x720 with 1 Axes>"
            ],
            "image/png": "[encoded data removed]"
          },
          "metadata": {
            "needs_background": "light"
          }
        }
      ],
      "source": [
        "# Loss Curves\n",
        "plt.figure(figsize=[14,10])\n",
        "plt.subplot(211)\n",
        "plt.plot(history.history['loss'],'#d62728',linewidth=3.0)\n",
        "plt.plot(history.history['val_loss'],'#1f77b4',linewidth=3.0)\n",
        "plt.legend(['Training loss', 'Validation Loss'],fontsize=18)\n",
        "plt.xlabel('Epochs ',fontsize=16)\n",
        "plt.ylabel('Loss',fontsize=16)\n",
        "plt.title('Loss Curves',fontsize=16)\n",
        " \n",
        "# Accuracy Curves\n",
        "plt.figure(figsize=[14,10])\n",
        "plt.subplot(212)\n",
        "plt.plot(history.history['accuracy'],'#d62728',linewidth=3.0)\n",
        "plt.plot(history.history['val_accuracy'],'#1f77b4',linewidth=3.0)\n",
        "plt.legend(['Training Accuracy', 'Validation Accuracy'],fontsize=18)\n",
        "plt.xlabel('Epochs ',fontsize=16)\n",
        "plt.ylabel('Accuracy',fontsize=16)\n",
        "plt.title('Accuracy Curves',fontsize=16)"
      ]
    },
    {
      "cell_type": "code",
      "execution_count": null,
      "id": "eef0eeec",
      "metadata": {
        "execution": {
          "iopub.execute_input": "2022-07-03T06:50:22.433379Z",
          "iopub.status.busy": "2022-07-03T06:50:22.432134Z",
          "iopub.status.idle": "2022-07-03T06:50:22.651384Z",
          "shell.execute_reply": "2022-07-03T06:50:22.650563Z"
        },
        "papermill": {
          "duration": 0.505171,
          "end_time": "2022-07-03T06:50:22.653440",
          "exception": false,
          "start_time": "2022-07-03T06:50:22.148269",
          "status": "completed"
        },
        "tags": [],
        "id": "eef0eeec",
        "outputId": "f4c7980e-204b-49d3-85b8-3e1799429074",
        "colab": {
          "base_uri": "https://localhost:8080/"
        }
      },
      "outputs": [
        {
          "output_type": "stream",
          "name": "stdout",
          "text": [
            "3/3 [==============================] - 0s 28ms/step - loss: 0.0981 - accuracy: 0.9753\n",
            "Test loss: 0.09812549501657486\n",
            "Test accuracy: 0.9753086566925049\n"
          ]
        }
      ],
      "source": [
        "scores = model.evaluate(x_test, y_test, verbose=1)\n",
        "print('Test loss:', scores[0])\n",
        "print('Test accuracy:', scores[1])"
      ]
    },
    {
      "cell_type": "code",
      "execution_count": null,
      "id": "5e70746b",
      "metadata": {
        "execution": {
          "iopub.execute_input": "2022-07-03T06:50:23.123639Z",
          "iopub.status.busy": "2022-07-03T06:50:23.123231Z",
          "iopub.status.idle": "2022-07-03T06:50:23.447010Z",
          "shell.execute_reply": "2022-07-03T06:50:23.445322Z"
        },
        "papermill": {
          "duration": 0.564356,
          "end_time": "2022-07-03T06:50:23.449348",
          "exception": false,
          "start_time": "2022-07-03T06:50:22.884992",
          "status": "completed"
        },
        "tags": [],
        "id": "5e70746b",
        "outputId": "5c3d6e5b-8f1b-49f2-a032-034cdab138c2",
        "colab": {
          "base_uri": "https://localhost:8080/"
        }
      },
      "outputs": [
        {
          "output_type": "stream",
          "name": "stdout",
          "text": [
            "3/3 [==============================] - 0s 30ms/step\n",
            "              precision    recall  f1-score   support\n",
            "\n",
            "    artifact       0.97      1.00      0.99        39\n",
            "    extrahls       1.00      0.92      0.96        12\n",
            "      murmur       1.00      1.00      1.00        19\n",
            "      normal       0.91      0.91      0.91        11\n",
            "\n",
            "    accuracy                           0.98        81\n",
            "   macro avg       0.97      0.96      0.96        81\n",
            "weighted avg       0.98      0.98      0.98        81\n",
            "\n"
          ]
        }
      ],
      "source": [
        "predictions = model.predict(x_test, verbose=1)\n",
        "\n",
        "y_true, y_pred = [],[]\n",
        "classes = encoder.classes_\n",
        "for idx, prediction in enumerate(predictions): \n",
        "    y_true.append(classes[np.argmax(y_test[idx])])\n",
        "    y_pred.append(classes[np.argmax(prediction)])\n",
        "    \n",
        "print(classification_report(y_pred, y_true))"
      ]
    },
    {
      "cell_type": "code",
      "execution_count": null,
      "id": "0744dbff",
      "metadata": {
        "execution": {
          "iopub.execute_input": "2022-07-03T06:50:23.914287Z",
          "iopub.status.busy": "2022-07-03T06:50:23.913458Z",
          "iopub.status.idle": "2022-07-03T06:50:23.957180Z",
          "shell.execute_reply": "2022-07-03T06:50:23.956128Z"
        },
        "papermill": {
          "duration": 0.281333,
          "end_time": "2022-07-03T06:50:23.959380",
          "exception": false,
          "start_time": "2022-07-03T06:50:23.678047",
          "status": "completed"
        },
        "tags": [],
        "id": "0744dbff"
      },
      "outputs": [],
      "source": [
        "model_name = \"heartbeat_classifier (normalised).h5\"\n",
        "model.save(model_name)"
      ]
    },
    {
      "cell_type": "code",
      "source": [
        "print(classes)"
      ],
      "metadata": {
        "colab": {
          "base_uri": "https://localhost:8080/"
        },
        "id": "D414OPmP0MjU",
        "outputId": "22349233-3d87-4ff4-89a6-801f9701a596"
      },
      "id": "D414OPmP0MjU",
      "execution_count": null,
      "outputs": [
        {
          "output_type": "stream",
          "name": "stdout",
          "text": [
            "['artifact' 'extrahls' 'murmur' 'normal']\n"
          ]
        }
      ]
    },
    {
      "cell_type": "code",
      "source": [
        "# # load and evaluate a saved model\n",
        "from keras.models import load_model\n",
        " \n",
        "# # load model\n",
        "model = load_model(\"heartbeat_classifier (normalised).h5\")\n",
        "\n",
        "# File to be classified\n",
        "classify_file = \"extrahls__201101241433.wav\"\n",
        "x_test = []\n",
        "x_test.append(extract_features(classify_file,0.5))\n",
        "x_test = np.asarray(x_test)\n",
        "x_test = x_test.reshape(x_test.shape[0], x_test.shape[1], x_test.shape[2], 1)\n",
        "pred = model.predict(x_test,verbose=1)\n",
        "\n",
        "print(pred)\n",
        "print(classes_x)"
      ],
      "metadata": {
        "colab": {
          "base_uri": "https://localhost:8080/"
        },
        "id": "Uf5Ri5r1zt4N",
        "outputId": "ad289449-03a9-4a3e-993a-8d4abaaef484"
      },
      "id": "Uf5Ri5r1zt4N",
      "execution_count": null,
      "outputs": [
        {
          "output_type": "stream",
          "name": "stdout",
          "text": [
            "1/1 [==============================] - 0s 95ms/step\n",
            "[[8.4385341e-05 9.9986517e-01 1.7917781e-06 4.8652448e-05]]\n",
            "[1]\n"
          ]
        }
      ]
    },
    {
      "cell_type": "code",
      "source": [
        "#@title\n",
        "pred_class=model.predict(x_test) \n",
        "classes_x=np.argmax(pred_class,axis=1)\n",
        "if classes_x==0:\n",
        "    print(\"Artifact\")\n",
        "elif classes_x==1:\n",
        "    print(\"Extrahl\")\n",
        "elif classes_x==2:\n",
        "    print(\"Murmur\")\n",
        "else:\n",
        "    print(\"Normal\")"
      ],
      "metadata": {
        "colab": {
          "base_uri": "https://localhost:8080/"
        },
        "id": "RFjGTVj-z01n",
        "outputId": "266d0650-9856-404d-bb10-c2994fa483eb"
      },
      "id": "RFjGTVj-z01n",
      "execution_count": null,
      "outputs": [
        {
          "output_type": "stream",
          "name": "stdout",
          "text": [
            "1/1 [==============================] - 0s 18ms/step\n",
            "Extrahl\n"
          ]
        }
      ]
    }
  ],
  "metadata": {
    "kernelspec": {
      "display_name": "Python 3",
      "language": "python",
      "name": "python3"
    },
    "language_info": {
      "codemirror_mode": {
        "name": "ipython",
        "version": 3
      },
      "file_extension": ".py",
      "mimetype": "text/x-python",
      "name": "python",
      "nbconvert_exporter": "python",
      "pygments_lexer": "ipython3",
      "version": "3.7.12"
    },
    "papermill": {
      "default_parameters": {},
      "duration": 1052.506274,
      "end_time": "2022-07-03T06:50:27.899324",
      "environment_variables": {},
      "exception": null,
      "input_path": "__notebook__.ipynb",
      "output_path": "__notebook__.ipynb",
      "parameters": {},
      "start_time": "2022-07-03T06:32:55.393050",
      "version": "2.3.4"
    },
    "colab": {
      "provenance": []
    }
  },
  "nbformat": 4,
  "nbformat_minor": 5
}